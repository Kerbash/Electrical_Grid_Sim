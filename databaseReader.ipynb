{
 "cells": [
  {
   "cell_type": "code",
   "execution_count": 8,
   "metadata": {
    "collapsed": true
   },
   "outputs": [],
   "source": [
    "import pandas as pd\n",
    "import json\n",
    "import os\n",
    "from random import uniform, randint\n",
    "import math\n",
    "from tqdm.notebook import tqdm"
   ]
  },
  {
   "cell_type": "code",
   "execution_count": 9,
   "outputs": [],
   "source": [
    "# if not already compiled, run this code\n",
    "if (not os.path.exists(\"compiled.csv\")):\n",
    "    # read the geojson file\n",
    "    files = [\"residential.geojson\", \"commercial.geojson\"]\n",
    "\n",
    "    df = pd.DataFrame()\n",
    "\n",
    "    for file in files:\n",
    "        print(f\"Reading {file}...\")\n",
    "        with open(file) as f:\n",
    "            gj = json.load(f)\n",
    "\n",
    "        # load the json as a pandas dataframe\n",
    "        df_temp = pd.json_normalize(gj['features'])\n",
    "\n",
    "        # list of columns to keep\n",
    "        features = [\"properties.PIN\", \"properties.PROP_NAME\", \"properties.LAND_USE_DESC\", \"properties.LAND_USE_DESC_10\", \"properties.STATUS_TEXT_2\", \"geometry.type\", \"geometry.coordinates\"]\n",
    "        df_temp = df_temp[features]\n",
    "\n",
    "        # add a column file of origin\n",
    "        df_temp[\"file\"] = file\n",
    "\n",
    "        # append to the main dataframe\n",
    "        print(f\"Appending {file} to main dataframe...\")\n",
    "        df = pd.concat([df, df_temp], ignore_index=True)\n",
    "        print(f\"Done appending {file} to main dataframe...\")\n",
    "\n",
    "\n",
    "    # save the pandas dataframe as a csv file\n",
    "    print(\"Saving dataframe to csv...\")\n",
    "    df.to_csv(\"compiled.csv\", index=False)\n",
    "\n",
    "    df.sample(10)"
   ],
   "metadata": {
    "collapsed": false
   }
  },
  {
   "cell_type": "code",
   "execution_count": 10,
   "outputs": [
    {
     "data": {
      "text/plain": "        properties.PIN                               properties.PROP_NAME  \\\n79181       6380500090                                                NaN   \n158712      2908700010  Office Building (Assoc Parking Acct #290870-0005)   \n100739      3680400195                                                NaN   \n48853       8673400172                                          Townhouse   \n122071      1604601358                                         VACANT LOT   \n15480       1118000895                                                NaN   \n44730       3904100059                                 TOWNHOUSE UNIT - C   \n54755       6411600087                                                NaN   \n128340      1862400187                                                NaN   \n162995      1972203760                              DIAMOND MACHINE WORKS   \n\n           properties.LAND_USE_DESC properties.LAND_USE_DESC_10  \\\n79181   Single Family(Res Use/Zone)               Single Family   \n158712              Office Building        Commercial/Mixed-Use   \n100739  Single Family(Res Use/Zone)               Single Family   \n48853                Townhouse Plat                Multi-Family   \n122071         Vacant(Multi-family)                      Vacant   \n15480   Single Family(Res Use/Zone)               Single Family   \n44730                Townhouse Plat                Multi-Family   \n54755   Single Family(Res Use/Zone)               Single Family   \n128340  Single Family(Res Use/Zone)               Single Family   \n162995      Industrial(Gen Purpose)                  Industrial   \n\n               properties.STATUS_TEXT_2 geometry.type  \\\n79181   (81% - 100% of allowed density)       Polygon   \n158712   (21% - 40% of allowed density)       Polygon   \n100739  (81% - 100% of allowed density)       Polygon   \n48853    (41% - 80% of allowed density)       Polygon   \n122071   (under 20% of allowed density)       Polygon   \n15480   (81% - 100% of allowed density)       Polygon   \n44730   (81% - 100% of allowed density)       Polygon   \n54755   (81% - 100% of allowed density)       Polygon   \n128340  (81% - 100% of allowed density)       Polygon   \n162995   (41% - 80% of allowed density)       Polygon   \n\n                                     geometry.coordinates                 file  \n79181   [[[-122.358912940811, 47.7147533108691], [-122...  residential.geojson  \n158712  [[[-122.314948511347, 47.6060883489188], [-122...   commercial.geojson  \n100739  [[[-122.300688308608, 47.5664677749665], [-122...  residential.geojson  \n48853   [[[-122.391748727971, 47.6692411852709], [-122...  residential.geojson  \n122071  [[[-122.289598025286, 47.5645224621732], [-122...  residential.geojson  \n15480   [[[-122.290122380038, 47.6370016290403], [-122...  residential.geojson  \n44730   [[[-122.278595109809, 47.534298259806], [-122....  residential.geojson  \n54755   [[[-122.330090073665, 47.7140004824209], [-122...  residential.geojson  \n128340  [[[-122.370623715073, 47.6969702136442], [-122...  residential.geojson  \n162995  [[[-122.356030767352, 47.6524658251445], [-122...   commercial.geojson  ",
      "text/html": "<div>\n<style scoped>\n    .dataframe tbody tr th:only-of-type {\n        vertical-align: middle;\n    }\n\n    .dataframe tbody tr th {\n        vertical-align: top;\n    }\n\n    .dataframe thead th {\n        text-align: right;\n    }\n</style>\n<table border=\"1\" class=\"dataframe\">\n  <thead>\n    <tr style=\"text-align: right;\">\n      <th></th>\n      <th>properties.PIN</th>\n      <th>properties.PROP_NAME</th>\n      <th>properties.LAND_USE_DESC</th>\n      <th>properties.LAND_USE_DESC_10</th>\n      <th>properties.STATUS_TEXT_2</th>\n      <th>geometry.type</th>\n      <th>geometry.coordinates</th>\n      <th>file</th>\n    </tr>\n  </thead>\n  <tbody>\n    <tr>\n      <th>79181</th>\n      <td>6380500090</td>\n      <td>NaN</td>\n      <td>Single Family(Res Use/Zone)</td>\n      <td>Single Family</td>\n      <td>(81% - 100% of allowed density)</td>\n      <td>Polygon</td>\n      <td>[[[-122.358912940811, 47.7147533108691], [-122...</td>\n      <td>residential.geojson</td>\n    </tr>\n    <tr>\n      <th>158712</th>\n      <td>2908700010</td>\n      <td>Office Building (Assoc Parking Acct #290870-0005)</td>\n      <td>Office Building</td>\n      <td>Commercial/Mixed-Use</td>\n      <td>(21% - 40% of allowed density)</td>\n      <td>Polygon</td>\n      <td>[[[-122.314948511347, 47.6060883489188], [-122...</td>\n      <td>commercial.geojson</td>\n    </tr>\n    <tr>\n      <th>100739</th>\n      <td>3680400195</td>\n      <td>NaN</td>\n      <td>Single Family(Res Use/Zone)</td>\n      <td>Single Family</td>\n      <td>(81% - 100% of allowed density)</td>\n      <td>Polygon</td>\n      <td>[[[-122.300688308608, 47.5664677749665], [-122...</td>\n      <td>residential.geojson</td>\n    </tr>\n    <tr>\n      <th>48853</th>\n      <td>8673400172</td>\n      <td>Townhouse</td>\n      <td>Townhouse Plat</td>\n      <td>Multi-Family</td>\n      <td>(41% - 80% of allowed density)</td>\n      <td>Polygon</td>\n      <td>[[[-122.391748727971, 47.6692411852709], [-122...</td>\n      <td>residential.geojson</td>\n    </tr>\n    <tr>\n      <th>122071</th>\n      <td>1604601358</td>\n      <td>VACANT LOT</td>\n      <td>Vacant(Multi-family)</td>\n      <td>Vacant</td>\n      <td>(under 20% of allowed density)</td>\n      <td>Polygon</td>\n      <td>[[[-122.289598025286, 47.5645224621732], [-122...</td>\n      <td>residential.geojson</td>\n    </tr>\n    <tr>\n      <th>15480</th>\n      <td>1118000895</td>\n      <td>NaN</td>\n      <td>Single Family(Res Use/Zone)</td>\n      <td>Single Family</td>\n      <td>(81% - 100% of allowed density)</td>\n      <td>Polygon</td>\n      <td>[[[-122.290122380038, 47.6370016290403], [-122...</td>\n      <td>residential.geojson</td>\n    </tr>\n    <tr>\n      <th>44730</th>\n      <td>3904100059</td>\n      <td>TOWNHOUSE UNIT - C</td>\n      <td>Townhouse Plat</td>\n      <td>Multi-Family</td>\n      <td>(81% - 100% of allowed density)</td>\n      <td>Polygon</td>\n      <td>[[[-122.278595109809, 47.534298259806], [-122....</td>\n      <td>residential.geojson</td>\n    </tr>\n    <tr>\n      <th>54755</th>\n      <td>6411600087</td>\n      <td>NaN</td>\n      <td>Single Family(Res Use/Zone)</td>\n      <td>Single Family</td>\n      <td>(81% - 100% of allowed density)</td>\n      <td>Polygon</td>\n      <td>[[[-122.330090073665, 47.7140004824209], [-122...</td>\n      <td>residential.geojson</td>\n    </tr>\n    <tr>\n      <th>128340</th>\n      <td>1862400187</td>\n      <td>NaN</td>\n      <td>Single Family(Res Use/Zone)</td>\n      <td>Single Family</td>\n      <td>(81% - 100% of allowed density)</td>\n      <td>Polygon</td>\n      <td>[[[-122.370623715073, 47.6969702136442], [-122...</td>\n      <td>residential.geojson</td>\n    </tr>\n    <tr>\n      <th>162995</th>\n      <td>1972203760</td>\n      <td>DIAMOND MACHINE WORKS</td>\n      <td>Industrial(Gen Purpose)</td>\n      <td>Industrial</td>\n      <td>(41% - 80% of allowed density)</td>\n      <td>Polygon</td>\n      <td>[[[-122.356030767352, 47.6524658251445], [-122...</td>\n      <td>commercial.geojson</td>\n    </tr>\n  </tbody>\n</table>\n</div>"
     },
     "execution_count": 10,
     "metadata": {},
     "output_type": "execute_result"
    }
   ],
   "source": [
    "# read the csv file just incase\n",
    "df = pd.read_csv(\"compiled.csv\")\n",
    "df.sample(10)"
   ],
   "metadata": {
    "collapsed": false
   }
  },
  {
   "cell_type": "code",
   "execution_count": 11,
   "outputs": [
    {
     "data": {
      "text/plain": "array(['Single Family(Res Use/Zone)', 'Duplex', 'Triplex',\n       'Townhouse Plat', 'Nursing Home', 'Apartment',\n       'Condominium(Residential)', 'Single Family(C/I Zone)',\n       'Vacant(Single-family)', '4-Plex', 'Unknown',\n       'Vacant(Multi-family)', 'Utility, Private(Radio/T.V.)',\n       'Retail Store', 'Parking(Assoc)', 'Apartment(Mixed Use)',\n       'Group Home', 'Apartment(Subsidized)', 'Parking(Commercial Lot)',\n       'Industrial(Gen Purpose)', 'Restaurant/Lounge', 'Daycare Center',\n       'Vacant(Commercial)', 'Easement', 'Industrial(Lignt)',\n       'Single Family(C/I Use)', 'School(Public)', 'Office Building',\n       'Retail(Line/Strip)', 'Grocery Store', 'Mobile Home',\n       'Retirement Facility', 'Service Building', 'Vacant(Industrial)',\n       'Warehouse', 'Conv Store with Gas', 'Club', 'Parking(Garage)',\n       'Health Club', 'Medical/Dental Office', 'School(Private)',\n       'Service Station', 'Apartment(Co-op)', 'Conv Store without Gas',\n       'Park, Private(Amuse Ctr)', 'Church/Welfare/Relig Srvc',\n       'Governmental Service', 'Historic Prop(Residence)', 'Hotel/Motel',\n       'Condominium(Office)', 'Mobile Home Park', 'Industrial(Heavy)',\n       'Tavern/Lounge', 'Bed & Breakfast', 'Condominium(Mixed Use)',\n       'Shell Structure', 'Sport Facility', 'Art Gallery/Museum/Soc Srvc',\n       'Auditorium//Assembly Bldg', 'Condominium(M Home Pk)',\n       'Greenhse/Nrsry/Hort Srvc', 'Transferable Dev Rights',\n       'Rehabilitation Center', 'Air Terminal and Hangers',\n       'Mini Warehouse', 'Rooming House'], dtype=object)"
     },
     "execution_count": 11,
     "metadata": {},
     "output_type": "execute_result"
    }
   ],
   "source": [
    "# print all unique values in LAND_USE_DESC for residential properties\n",
    "df[df[\"file\"] == \"residential.geojson\"][\"properties.LAND_USE_DESC\"].unique()"
   ],
   "metadata": {
    "collapsed": false
   }
  },
  {
   "cell_type": "code",
   "execution_count": 12,
   "outputs": [],
   "source": [
    "def occupancy_gen(string):\n",
    "    if string == \"(more than 100% of allowed density)\":\n",
    "        # generate a logarithmic distribution float between 1.0 and 10.0\n",
    "        mu = 1.0\n",
    "        u = uniform(0, 1)\n",
    "        x = 1.0 + (3.0 - 1.0) * (1 - math.exp(-mu * u)) / (1 - math.exp(-mu))\n",
    "        return x\n",
    "    elif string == \"(81% - 100% of allowed density)\":\n",
    "    # generate a random float between 0.81 and 1.0\n",
    "        return uniform(0.81, 1.0)\n",
    "    elif string == \"(41% - 80% of allowed density)\":\n",
    "        return uniform(0.41, 0.8)\n",
    "    elif string == \"(21% - 40% of allowed density)\":\n",
    "        return uniform(0.21, 0.4)\n",
    "    elif string == \"(under 20% of allowed density)\":\n",
    "        return uniform(0.0, 0.2)\n",
    "    else:\n",
    "        raise ValueError(f\"Invalid density string {string}\")"
   ],
   "metadata": {
    "collapsed": false
   }
  },
  {
   "cell_type": "code",
   "execution_count": 13,
   "outputs": [
    {
     "data": {
      "text/plain": "  0%|          | 0/168964 [00:00<?, ?it/s]",
      "application/vnd.jupyter.widget-view+json": {
       "version_major": 2,
       "version_minor": 0,
       "model_id": "03e83b7a7b4f4edcbb6ec63f4a271985"
      }
     },
     "metadata": {},
     "output_type": "display_data"
    }
   ],
   "source": [
    "SINGLE_FAM_TAG = [\"Single Family(Res Use/Zone)\", \"Single Family(C/I Zone)\", \"Single Family(C/I Use)\", \"Unknown\", \"Mobile Home\"]\n",
    "TWO_FAM_TAG = ['Duplex']\n",
    "THREE_FAM_TAG = [\"Triplex\"]\n",
    "FOUR_FAM_TAG = [\"4-Plex\"]\n",
    "SMALL_MULTI_TAG = [\"Townhouse Plat\", \"Nursing Home\", \"Group Home\", \"Apartment(Co-op)\"]\n",
    "LARGE_MULTI_TAG = [\"Apartment\", \"Condominium(Residential)\", \"Apartment(Subsidized)\", \"Retirement Facility\", \"Mobile Home Park\", \"Condominium(M Home Pk)\"]\n",
    "VACANT = [\"Vacant(Single-family)\", \"Vacant(Multi-family)\"]\n",
    "\n",
    "# create a new LAND_USE_DESC column\n",
    "# for each row\n",
    "def residential_gen(_df):\n",
    "    # process only residential properties\n",
    "    for index, row in tqdm(_df.iterrows(), total=_df.shape[0]):\n",
    "        # if the properties.LAND_USE_DESC is in the list of single family tags\n",
    "        if row[\"properties.LAND_USE_DESC\"] in SINGLE_FAM_TAG:\n",
    "            # set the occupancy to 1\n",
    "            _df.loc[index, \"occupancy\"] = int(occupancy_gen(row[\"properties.STATUS_TEXT_2\"]) * OCCU_FAM)\n",
    "            _df.loc[index, \"properties.LAND_USE_DESC\"] = \"Single Family\"\n",
    "        elif row[\"properties.LAND_USE_DESC\"] in TWO_FAM_TAG:\n",
    "            _df.loc[index, \"occupancy\"] = int(occupancy_gen(row[\"properties.STATUS_TEXT_2\"]) * 2 * OCCU_FAM)\n",
    "            _df.loc[index, \"properties.LAND_USE_DESC\"] = \"Two Family\"\n",
    "        elif row[\"properties.LAND_USE_DESC\"] in THREE_FAM_TAG:\n",
    "            _df.loc[index, \"occupancy\"] = int(occupancy_gen(row[\"properties.STATUS_TEXT_2\"]) * 3 * OCCU_FAM)\n",
    "            _df.loc[index, \"properties.LAND_USE_DESC\"] = \"Three Family\"\n",
    "        elif row[\"properties.LAND_USE_DESC\"] in FOUR_FAM_TAG:\n",
    "            _df.loc[index, \"occupancy\"] = int(occupancy_gen(row[\"properties.STATUS_TEXT_2\"]) * 4 * OCCU_FAM)\n",
    "            _df.loc[index, \"properties.LAND_USE_DESC\"] = \"Four Family\"\n",
    "        elif row[\"properties.LAND_USE_DESC\"] in SMALL_MULTI_TAG:\n",
    "            n_unit = randint(4, 10)\n",
    "            _df.loc[index, \"occupancy\"] = int(occupancy_gen(row[\"properties.STATUS_TEXT_2\"]) * n_unit * OCCU_FAM)\n",
    "            _df.loc[index, \"properties.LAND_USE_DESC\"] = \"Small Multi Family\"\n",
    "        elif row[\"properties.LAND_USE_DESC\"] in LARGE_MULTI_TAG:\n",
    "            n_unit = randint(10, 50)\n",
    "            _df.loc[index, \"occupancy\"] = int(occupancy_gen(row[\"properties.STATUS_TEXT_2\"]) * n_unit * OCCU_FAM)\n",
    "            _df.loc[index, \"properties.LAND_USE_DESC\"] = \"Large Multi Family\"\n",
    "        elif row[\"properties.LAND_USE_DESC\"] in VACANT:\n",
    "            _df.loc[index, \"occupancy\"] = 0\n",
    "            _df.loc[index, \"properties.LAND_USE_DESC\"] = \"Vacant\"\n",
    "        else:\n",
    "            continue\n",
    "\n",
    "        _df.loc[index, \"type\"] = \"residential\"\n",
    "\n",
    "# add a new column occupancy\n",
    "df[\"occupancy\"] = 0\n",
    "OCCU_FAM = 6 # max occupancy for single family residential\n",
    "\n",
    "# add occupancy to residential properties\n",
    "residential_gen(df)"
   ],
   "metadata": {
    "collapsed": false
   }
  },
  {
   "cell_type": "code",
   "execution_count": 15,
   "outputs": [
    {
     "data": {
      "text/plain": "        properties.PIN properties.PROP_NAME properties.LAND_USE_DESC  \\\n83904       3438500730                  NaN            Single Family   \n29579        946000205                  NaN            Single Family   \n80896       3076500560                  NaN            Single Family   \n4405        1498301315                  NaN            Single Family   \n44474       5366200390                  NaN            Single Family   \n15372       1118002125                  NaN                   Vacant   \n116720      9828200235                  NaN            Single Family   \n7817        3352400785                  NaN            Single Family   \n104503      3333001792                  NaN            Single Family   \n149843      7640400175                  NaN            Single Family   \n\n       properties.LAND_USE_DESC_10         properties.STATUS_TEXT_2  \\\n83904                Single Family  (81% - 100% of allowed density)   \n29579                Single Family  (81% - 100% of allowed density)   \n80896                Single Family   (41% - 80% of allowed density)   \n4405                 Single Family  (81% - 100% of allowed density)   \n44474                Single Family  (81% - 100% of allowed density)   \n15372                       Vacant   (under 20% of allowed density)   \n116720               Single Family  (81% - 100% of allowed density)   \n7817                 Single Family  (81% - 100% of allowed density)   \n104503               Single Family  (81% - 100% of allowed density)   \n149843               Single Family  (81% - 100% of allowed density)   \n\n       geometry.type                               geometry.coordinates  \\\n83904        Polygon  [[[-122.355379954836, 47.5536247481746], [-122...   \n29579        Polygon  [[[-122.363641081405, 47.6910287657686], [-122...   \n80896        Polygon  [[[-122.31753598365, 47.5762602120484], [-122....   \n4405         Polygon  [[[-122.311612582668, 47.5847577309197], [-122...   \n44474        Polygon  [[[-122.291645857272, 47.6082593482472], [-122...   \n15372        Polygon  [[[-122.287895822078, 47.6299688776539], [-122...   \n116720       Polygon  [[[-122.301013502516, 47.6155647485207], [-122...   \n7817         Polygon  [[[-122.264331801828, 47.5019494189892], [-122...   \n104503       Polygon  [[[-122.288419049644, 47.5455989939216], [-122...   \n149843       Polygon  [[[-122.369722539946, 47.7210860060726], [-122...   \n\n                       file  occupancy         type  \n83904   residential.geojson          5  residential  \n29579   residential.geojson          5  residential  \n80896   residential.geojson          4  residential  \n4405    residential.geojson          5  residential  \n44474   residential.geojson          5  residential  \n15372   residential.geojson          0  residential  \n116720  residential.geojson          5  residential  \n7817    residential.geojson          5  residential  \n104503  residential.geojson          5  residential  \n149843  residential.geojson          4  residential  ",
      "text/html": "<div>\n<style scoped>\n    .dataframe tbody tr th:only-of-type {\n        vertical-align: middle;\n    }\n\n    .dataframe tbody tr th {\n        vertical-align: top;\n    }\n\n    .dataframe thead th {\n        text-align: right;\n    }\n</style>\n<table border=\"1\" class=\"dataframe\">\n  <thead>\n    <tr style=\"text-align: right;\">\n      <th></th>\n      <th>properties.PIN</th>\n      <th>properties.PROP_NAME</th>\n      <th>properties.LAND_USE_DESC</th>\n      <th>properties.LAND_USE_DESC_10</th>\n      <th>properties.STATUS_TEXT_2</th>\n      <th>geometry.type</th>\n      <th>geometry.coordinates</th>\n      <th>file</th>\n      <th>occupancy</th>\n      <th>type</th>\n    </tr>\n  </thead>\n  <tbody>\n    <tr>\n      <th>83904</th>\n      <td>3438500730</td>\n      <td>NaN</td>\n      <td>Single Family</td>\n      <td>Single Family</td>\n      <td>(81% - 100% of allowed density)</td>\n      <td>Polygon</td>\n      <td>[[[-122.355379954836, 47.5536247481746], [-122...</td>\n      <td>residential.geojson</td>\n      <td>5</td>\n      <td>residential</td>\n    </tr>\n    <tr>\n      <th>29579</th>\n      <td>946000205</td>\n      <td>NaN</td>\n      <td>Single Family</td>\n      <td>Single Family</td>\n      <td>(81% - 100% of allowed density)</td>\n      <td>Polygon</td>\n      <td>[[[-122.363641081405, 47.6910287657686], [-122...</td>\n      <td>residential.geojson</td>\n      <td>5</td>\n      <td>residential</td>\n    </tr>\n    <tr>\n      <th>80896</th>\n      <td>3076500560</td>\n      <td>NaN</td>\n      <td>Single Family</td>\n      <td>Single Family</td>\n      <td>(41% - 80% of allowed density)</td>\n      <td>Polygon</td>\n      <td>[[[-122.31753598365, 47.5762602120484], [-122....</td>\n      <td>residential.geojson</td>\n      <td>4</td>\n      <td>residential</td>\n    </tr>\n    <tr>\n      <th>4405</th>\n      <td>1498301315</td>\n      <td>NaN</td>\n      <td>Single Family</td>\n      <td>Single Family</td>\n      <td>(81% - 100% of allowed density)</td>\n      <td>Polygon</td>\n      <td>[[[-122.311612582668, 47.5847577309197], [-122...</td>\n      <td>residential.geojson</td>\n      <td>5</td>\n      <td>residential</td>\n    </tr>\n    <tr>\n      <th>44474</th>\n      <td>5366200390</td>\n      <td>NaN</td>\n      <td>Single Family</td>\n      <td>Single Family</td>\n      <td>(81% - 100% of allowed density)</td>\n      <td>Polygon</td>\n      <td>[[[-122.291645857272, 47.6082593482472], [-122...</td>\n      <td>residential.geojson</td>\n      <td>5</td>\n      <td>residential</td>\n    </tr>\n    <tr>\n      <th>15372</th>\n      <td>1118002125</td>\n      <td>NaN</td>\n      <td>Vacant</td>\n      <td>Vacant</td>\n      <td>(under 20% of allowed density)</td>\n      <td>Polygon</td>\n      <td>[[[-122.287895822078, 47.6299688776539], [-122...</td>\n      <td>residential.geojson</td>\n      <td>0</td>\n      <td>residential</td>\n    </tr>\n    <tr>\n      <th>116720</th>\n      <td>9828200235</td>\n      <td>NaN</td>\n      <td>Single Family</td>\n      <td>Single Family</td>\n      <td>(81% - 100% of allowed density)</td>\n      <td>Polygon</td>\n      <td>[[[-122.301013502516, 47.6155647485207], [-122...</td>\n      <td>residential.geojson</td>\n      <td>5</td>\n      <td>residential</td>\n    </tr>\n    <tr>\n      <th>7817</th>\n      <td>3352400785</td>\n      <td>NaN</td>\n      <td>Single Family</td>\n      <td>Single Family</td>\n      <td>(81% - 100% of allowed density)</td>\n      <td>Polygon</td>\n      <td>[[[-122.264331801828, 47.5019494189892], [-122...</td>\n      <td>residential.geojson</td>\n      <td>5</td>\n      <td>residential</td>\n    </tr>\n    <tr>\n      <th>104503</th>\n      <td>3333001792</td>\n      <td>NaN</td>\n      <td>Single Family</td>\n      <td>Single Family</td>\n      <td>(81% - 100% of allowed density)</td>\n      <td>Polygon</td>\n      <td>[[[-122.288419049644, 47.5455989939216], [-122...</td>\n      <td>residential.geojson</td>\n      <td>5</td>\n      <td>residential</td>\n    </tr>\n    <tr>\n      <th>149843</th>\n      <td>7640400175</td>\n      <td>NaN</td>\n      <td>Single Family</td>\n      <td>Single Family</td>\n      <td>(81% - 100% of allowed density)</td>\n      <td>Polygon</td>\n      <td>[[[-122.369722539946, 47.7210860060726], [-122...</td>\n      <td>residential.geojson</td>\n      <td>4</td>\n      <td>residential</td>\n    </tr>\n  </tbody>\n</table>\n</div>"
     },
     "execution_count": 14,
     "metadata": {},
     "output_type": "execute_result"
    },
    {
     "data": {
      "text/plain": "        properties.PIN properties.PROP_NAME properties.LAND_USE_DESC  \\\n34567       2780400030                  NaN            Single Family   \n149809      1794500185                  NaN            Single Family   \n65880       2597800055                  NaN            Single Family   \n35664       2878601100                  NaN            Single Family   \n153547      2826049131                  NaN            Single Family   \n152395      2883201260   SP 77-161 & 77-163            Single Family   \n51583       6021500955                  NaN            Single Family   \n46693        123039548                  NaN            Single Family   \n22102       9551202390                  NaN            Single Family   \n116419      5316100970                  NaN            Single Family   \n\n       properties.LAND_USE_DESC_10         properties.STATUS_TEXT_2  \\\n34567                Single Family  (81% - 100% of allowed density)   \n149809               Single Family  (81% - 100% of allowed density)   \n65880                Single Family   (21% - 40% of allowed density)   \n35664                Single Family  (81% - 100% of allowed density)   \n153547               Single Family  (81% - 100% of allowed density)   \n152395               Single Family  (81% - 100% of allowed density)   \n51583                Single Family  (81% - 100% of allowed density)   \n46693                Single Family   (21% - 40% of allowed density)   \n22102                Single Family  (81% - 100% of allowed density)   \n116419               Single Family  (81% - 100% of allowed density)   \n\n       geometry.type                               geometry.coordinates  \\\n34567        Polygon  [[[-122.28563747356, 47.6811741346379], [-122....   \n149809       Polygon  [[[-122.357942986372, 47.6392381135441], [-122...   \n65880        Polygon  [[[-122.38627473017, 47.5200167355564], [-122....   \n35664        Polygon  [[[-122.322240067866, 47.6881441741841], [-122...   \n153547       Polygon  [[[-122.305143125466, 47.7148168139036], [-122...   \n152395       Polygon  [[[-122.330540442275, 47.6848555029813], [-122...   \n51583        Polygon  [[[-122.386811492816, 47.6904967188948], [-122...   \n46693        Polygon  [[[-122.375338332877, 47.504601279209], [-122....   \n22102        Polygon  [[[-122.335967751192, 47.6695590289343], [-122...   \n116419       Polygon  [[[-122.283458574406, 47.6291593315567], [-122...   \n\n                       file  occupancy         type  \n34567   residential.geojson          5  residential  \n149809  residential.geojson          5  residential  \n65880   residential.geojson          2  residential  \n35664   residential.geojson          5  residential  \n153547  residential.geojson          5  residential  \n152395  residential.geojson          5  residential  \n51583   residential.geojson          5  residential  \n46693   residential.geojson          1  residential  \n22102   residential.geojson          5  residential  \n116419  residential.geojson          5  residential  ",
      "text/html": "<div>\n<style scoped>\n    .dataframe tbody tr th:only-of-type {\n        vertical-align: middle;\n    }\n\n    .dataframe tbody tr th {\n        vertical-align: top;\n    }\n\n    .dataframe thead th {\n        text-align: right;\n    }\n</style>\n<table border=\"1\" class=\"dataframe\">\n  <thead>\n    <tr style=\"text-align: right;\">\n      <th></th>\n      <th>properties.PIN</th>\n      <th>properties.PROP_NAME</th>\n      <th>properties.LAND_USE_DESC</th>\n      <th>properties.LAND_USE_DESC_10</th>\n      <th>properties.STATUS_TEXT_2</th>\n      <th>geometry.type</th>\n      <th>geometry.coordinates</th>\n      <th>file</th>\n      <th>occupancy</th>\n      <th>type</th>\n    </tr>\n  </thead>\n  <tbody>\n    <tr>\n      <th>34567</th>\n      <td>2780400030</td>\n      <td>NaN</td>\n      <td>Single Family</td>\n      <td>Single Family</td>\n      <td>(81% - 100% of allowed density)</td>\n      <td>Polygon</td>\n      <td>[[[-122.28563747356, 47.6811741346379], [-122....</td>\n      <td>residential.geojson</td>\n      <td>5</td>\n      <td>residential</td>\n    </tr>\n    <tr>\n      <th>149809</th>\n      <td>1794500185</td>\n      <td>NaN</td>\n      <td>Single Family</td>\n      <td>Single Family</td>\n      <td>(81% - 100% of allowed density)</td>\n      <td>Polygon</td>\n      <td>[[[-122.357942986372, 47.6392381135441], [-122...</td>\n      <td>residential.geojson</td>\n      <td>5</td>\n      <td>residential</td>\n    </tr>\n    <tr>\n      <th>65880</th>\n      <td>2597800055</td>\n      <td>NaN</td>\n      <td>Single Family</td>\n      <td>Single Family</td>\n      <td>(21% - 40% of allowed density)</td>\n      <td>Polygon</td>\n      <td>[[[-122.38627473017, 47.5200167355564], [-122....</td>\n      <td>residential.geojson</td>\n      <td>2</td>\n      <td>residential</td>\n    </tr>\n    <tr>\n      <th>35664</th>\n      <td>2878601100</td>\n      <td>NaN</td>\n      <td>Single Family</td>\n      <td>Single Family</td>\n      <td>(81% - 100% of allowed density)</td>\n      <td>Polygon</td>\n      <td>[[[-122.322240067866, 47.6881441741841], [-122...</td>\n      <td>residential.geojson</td>\n      <td>5</td>\n      <td>residential</td>\n    </tr>\n    <tr>\n      <th>153547</th>\n      <td>2826049131</td>\n      <td>NaN</td>\n      <td>Single Family</td>\n      <td>Single Family</td>\n      <td>(81% - 100% of allowed density)</td>\n      <td>Polygon</td>\n      <td>[[[-122.305143125466, 47.7148168139036], [-122...</td>\n      <td>residential.geojson</td>\n      <td>5</td>\n      <td>residential</td>\n    </tr>\n    <tr>\n      <th>152395</th>\n      <td>2883201260</td>\n      <td>SP 77-161 &amp; 77-163</td>\n      <td>Single Family</td>\n      <td>Single Family</td>\n      <td>(81% - 100% of allowed density)</td>\n      <td>Polygon</td>\n      <td>[[[-122.330540442275, 47.6848555029813], [-122...</td>\n      <td>residential.geojson</td>\n      <td>5</td>\n      <td>residential</td>\n    </tr>\n    <tr>\n      <th>51583</th>\n      <td>6021500955</td>\n      <td>NaN</td>\n      <td>Single Family</td>\n      <td>Single Family</td>\n      <td>(81% - 100% of allowed density)</td>\n      <td>Polygon</td>\n      <td>[[[-122.386811492816, 47.6904967188948], [-122...</td>\n      <td>residential.geojson</td>\n      <td>5</td>\n      <td>residential</td>\n    </tr>\n    <tr>\n      <th>46693</th>\n      <td>123039548</td>\n      <td>NaN</td>\n      <td>Single Family</td>\n      <td>Single Family</td>\n      <td>(21% - 40% of allowed density)</td>\n      <td>Polygon</td>\n      <td>[[[-122.375338332877, 47.504601279209], [-122....</td>\n      <td>residential.geojson</td>\n      <td>1</td>\n      <td>residential</td>\n    </tr>\n    <tr>\n      <th>22102</th>\n      <td>9551202390</td>\n      <td>NaN</td>\n      <td>Single Family</td>\n      <td>Single Family</td>\n      <td>(81% - 100% of allowed density)</td>\n      <td>Polygon</td>\n      <td>[[[-122.335967751192, 47.6695590289343], [-122...</td>\n      <td>residential.geojson</td>\n      <td>5</td>\n      <td>residential</td>\n    </tr>\n    <tr>\n      <th>116419</th>\n      <td>5316100970</td>\n      <td>NaN</td>\n      <td>Single Family</td>\n      <td>Single Family</td>\n      <td>(81% - 100% of allowed density)</td>\n      <td>Polygon</td>\n      <td>[[[-122.283458574406, 47.6291593315567], [-122...</td>\n      <td>residential.geojson</td>\n      <td>5</td>\n      <td>residential</td>\n    </tr>\n  </tbody>\n</table>\n</div>"
     },
     "execution_count": 15,
     "metadata": {},
     "output_type": "execute_result"
    }
   ],
   "source": [
    "# save to csv\n",
    "df.to_csv(\"compiled_1_res.csv\", index=False)\n",
    "df.sample(10)"
   ],
   "metadata": {
    "collapsed": false
   }
  },
  {
   "cell_type": "code",
   "execution_count": 14,
   "outputs": [],
   "source": [],
   "metadata": {
    "collapsed": false
   }
  }
 ],
 "metadata": {
  "kernelspec": {
   "display_name": "Python 3",
   "language": "python",
   "name": "python3"
  },
  "language_info": {
   "codemirror_mode": {
    "name": "ipython",
    "version": 2
   },
   "file_extension": ".py",
   "mimetype": "text/x-python",
   "name": "python",
   "nbconvert_exporter": "python",
   "pygments_lexer": "ipython2",
   "version": "2.7.6"
  }
 },
 "nbformat": 4,
 "nbformat_minor": 0
}
