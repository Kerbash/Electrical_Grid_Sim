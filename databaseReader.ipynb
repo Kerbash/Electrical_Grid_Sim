{
 "cells": [
  {
   "cell_type": "code",
   "execution_count": 16,
   "metadata": {
    "collapsed": true
   },
   "outputs": [],
   "source": [
    "import pandas as pd\n",
    "import json\n",
    "import os"
   ]
  },
  {
   "cell_type": "code",
   "execution_count": 17,
   "outputs": [
    {
     "name": "stdout",
     "output_type": "stream",
     "text": [
      "Reading residential.geojson...\n",
      "Appending residential.geojson to main dataframe...\n",
      "Done appending residential.geojson to main dataframe...\n",
      "Reading commercial.geojson...\n",
      "Appending commercial.geojson to main dataframe...\n",
      "Done appending commercial.geojson to main dataframe...\n",
      "Saving dataframe to csv...\n"
     ]
    }
   ],
   "source": [
    "# if not already compiled, run this code\n",
    "if (not os.path.exists(\"compiled.csv\")):\n",
    "    # read the geojson file\n",
    "    files = [\"residential.geojson\", \"commercial.geojson\"]\n",
    "\n",
    "    df = pd.DataFrame()\n",
    "\n",
    "    for file in files:\n",
    "        print(f\"Reading {file}...\")\n",
    "        with open(file) as f:\n",
    "            gj = json.load(f)\n",
    "\n",
    "        # load the json as a pandas dataframe\n",
    "        df_temp = pd.json_normalize(gj['features'])\n",
    "\n",
    "        # list of columns to keep\n",
    "        features = [\"properties.PIN\", \"properties.PROP_NAME\", \"properties.LAND_USE_DESC\", \"properties.LAND_USE_DESC_10\", \"properties.STATUS_TEXT_2\", \"geometry.type\", \"geometry.coordinates\"]\n",
    "        df_temp = df_temp[features]\n",
    "\n",
    "        # add a column file of origin\n",
    "        df_temp[\"file\"] = file\n",
    "\n",
    "        # append to the main dataframe\n",
    "        print(f\"Appending {file} to main dataframe...\")\n",
    "        df = pd.concat([df, df_temp], ignore_index=True)\n",
    "        print(f\"Done appending {file} to main dataframe...\")\n",
    "\n",
    "\n",
    "    # save the pandas dataframe as a csv file\n",
    "    print(\"Saving dataframe to csv...\")\n",
    "    df.to_csv(\"compiled.csv\", index=False)\n",
    "\n",
    "    df.sample(10)"
   ],
   "metadata": {
    "collapsed": false
   }
  },
  {
   "cell_type": "code",
   "execution_count": 22,
   "outputs": [
    {
     "data": {
      "text/plain": "        properties.PIN             properties.PROP_NAME  \\\n152271      8024200900                              NaN   \n157645       952002270  CONSIGNMENT SHOPS/CROSSFIT LOFT   \n24240       4003000315                              NaN   \n137952      6430500265                              NaN   \n13389       5101402660                              NaN   \n139394      4232900150                              NaN   \n137412      3547900560                              NaN   \n168282      4083300110                              SFR   \n130941      1455100005                              NaN   \n164735      2467400120     400 FAIRVIEW OFFICE BUILDING   \n\n           properties.LAND_USE_DESC properties.LAND_USE_DESC_10  \\\n152271  Single Family(Res Use/Zone)               Single Family   \n157645                 Retail Store        Commercial/Mixed-Use   \n24240   Single Family(Res Use/Zone)               Single Family   \n137952  Single Family(Res Use/Zone)               Single Family   \n13389   Single Family(Res Use/Zone)               Single Family   \n139394                       Duplex                Multi-Family   \n137412  Single Family(Res Use/Zone)               Single Family   \n168282      Single Family(C/I Zone)               Single Family   \n130941  Single Family(Res Use/Zone)               Single Family   \n164735              Office Building        Commercial/Mixed-Use   \n\n                   properties.STATUS_TEXT_2 geometry.type  \\\n152271      (81% - 100% of allowed density)       Polygon   \n157645       (41% - 80% of allowed density)       Polygon   \n24240       (81% - 100% of allowed density)       Polygon   \n137952      (81% - 100% of allowed density)       Polygon   \n13389       (81% - 100% of allowed density)       Polygon   \n139394  (more than 100% of allowed density)       Polygon   \n137412      (81% - 100% of allowed density)       Polygon   \n168282       (under 20% of allowed density)       Polygon   \n130941      (81% - 100% of allowed density)       Polygon   \n164735       (41% - 80% of allowed density)       Polygon   \n\n                                     geometry.coordinates                 file  \n152271  [[[-122.314189179094, 47.6984569696939], [-122...  residential.geojson  \n157645  [[[-122.386145109604, 47.5653136707198], [-122...   commercial.geojson  \n24240   [[[-122.288527465594, 47.6034549943079], [-122...  residential.geojson  \n137952  [[[-122.352196546661, 47.6896440357864], [-122...  residential.geojson  \n13389   [[[-122.309560776488, 47.6950576285576], [-122...  residential.geojson  \n139394  [[[-122.365160401152, 47.6351272621931], [-122...  residential.geojson  \n137412  [[[-122.389123650713, 47.6350880990667], [-122...  residential.geojson  \n168282  [[[-122.334690939976, 47.6610439830008], [-122...   commercial.geojson  \n130941  [[[-122.28511726877, 47.7297717640384], [-122....  residential.geojson  \n164735  [[[-122.333674986791, 47.6222184662212], [-122...   commercial.geojson  ",
      "text/html": "<div>\n<style scoped>\n    .dataframe tbody tr th:only-of-type {\n        vertical-align: middle;\n    }\n\n    .dataframe tbody tr th {\n        vertical-align: top;\n    }\n\n    .dataframe thead th {\n        text-align: right;\n    }\n</style>\n<table border=\"1\" class=\"dataframe\">\n  <thead>\n    <tr style=\"text-align: right;\">\n      <th></th>\n      <th>properties.PIN</th>\n      <th>properties.PROP_NAME</th>\n      <th>properties.LAND_USE_DESC</th>\n      <th>properties.LAND_USE_DESC_10</th>\n      <th>properties.STATUS_TEXT_2</th>\n      <th>geometry.type</th>\n      <th>geometry.coordinates</th>\n      <th>file</th>\n    </tr>\n  </thead>\n  <tbody>\n    <tr>\n      <th>152271</th>\n      <td>8024200900</td>\n      <td>NaN</td>\n      <td>Single Family(Res Use/Zone)</td>\n      <td>Single Family</td>\n      <td>(81% - 100% of allowed density)</td>\n      <td>Polygon</td>\n      <td>[[[-122.314189179094, 47.6984569696939], [-122...</td>\n      <td>residential.geojson</td>\n    </tr>\n    <tr>\n      <th>157645</th>\n      <td>952002270</td>\n      <td>CONSIGNMENT SHOPS/CROSSFIT LOFT</td>\n      <td>Retail Store</td>\n      <td>Commercial/Mixed-Use</td>\n      <td>(41% - 80% of allowed density)</td>\n      <td>Polygon</td>\n      <td>[[[-122.386145109604, 47.5653136707198], [-122...</td>\n      <td>commercial.geojson</td>\n    </tr>\n    <tr>\n      <th>24240</th>\n      <td>4003000315</td>\n      <td>NaN</td>\n      <td>Single Family(Res Use/Zone)</td>\n      <td>Single Family</td>\n      <td>(81% - 100% of allowed density)</td>\n      <td>Polygon</td>\n      <td>[[[-122.288527465594, 47.6034549943079], [-122...</td>\n      <td>residential.geojson</td>\n    </tr>\n    <tr>\n      <th>137952</th>\n      <td>6430500265</td>\n      <td>NaN</td>\n      <td>Single Family(Res Use/Zone)</td>\n      <td>Single Family</td>\n      <td>(81% - 100% of allowed density)</td>\n      <td>Polygon</td>\n      <td>[[[-122.352196546661, 47.6896440357864], [-122...</td>\n      <td>residential.geojson</td>\n    </tr>\n    <tr>\n      <th>13389</th>\n      <td>5101402660</td>\n      <td>NaN</td>\n      <td>Single Family(Res Use/Zone)</td>\n      <td>Single Family</td>\n      <td>(81% - 100% of allowed density)</td>\n      <td>Polygon</td>\n      <td>[[[-122.309560776488, 47.6950576285576], [-122...</td>\n      <td>residential.geojson</td>\n    </tr>\n    <tr>\n      <th>139394</th>\n      <td>4232900150</td>\n      <td>NaN</td>\n      <td>Duplex</td>\n      <td>Multi-Family</td>\n      <td>(more than 100% of allowed density)</td>\n      <td>Polygon</td>\n      <td>[[[-122.365160401152, 47.6351272621931], [-122...</td>\n      <td>residential.geojson</td>\n    </tr>\n    <tr>\n      <th>137412</th>\n      <td>3547900560</td>\n      <td>NaN</td>\n      <td>Single Family(Res Use/Zone)</td>\n      <td>Single Family</td>\n      <td>(81% - 100% of allowed density)</td>\n      <td>Polygon</td>\n      <td>[[[-122.389123650713, 47.6350880990667], [-122...</td>\n      <td>residential.geojson</td>\n    </tr>\n    <tr>\n      <th>168282</th>\n      <td>4083300110</td>\n      <td>SFR</td>\n      <td>Single Family(C/I Zone)</td>\n      <td>Single Family</td>\n      <td>(under 20% of allowed density)</td>\n      <td>Polygon</td>\n      <td>[[[-122.334690939976, 47.6610439830008], [-122...</td>\n      <td>commercial.geojson</td>\n    </tr>\n    <tr>\n      <th>130941</th>\n      <td>1455100005</td>\n      <td>NaN</td>\n      <td>Single Family(Res Use/Zone)</td>\n      <td>Single Family</td>\n      <td>(81% - 100% of allowed density)</td>\n      <td>Polygon</td>\n      <td>[[[-122.28511726877, 47.7297717640384], [-122....</td>\n      <td>residential.geojson</td>\n    </tr>\n    <tr>\n      <th>164735</th>\n      <td>2467400120</td>\n      <td>400 FAIRVIEW OFFICE BUILDING</td>\n      <td>Office Building</td>\n      <td>Commercial/Mixed-Use</td>\n      <td>(41% - 80% of allowed density)</td>\n      <td>Polygon</td>\n      <td>[[[-122.333674986791, 47.6222184662212], [-122...</td>\n      <td>commercial.geojson</td>\n    </tr>\n  </tbody>\n</table>\n</div>"
     },
     "execution_count": 22,
     "metadata": {},
     "output_type": "execute_result"
    }
   ],
   "source": [
    "# read the csv file just incase\n",
    "df = pd.read_csv(\"compiled.csv\")\n",
    "df.sample(10)"
   ],
   "metadata": {
    "collapsed": false
   }
  },
  {
   "cell_type": "code",
   "execution_count": 25,
   "outputs": [
    {
     "data": {
      "text/plain": "(81% - 100% of allowed density)        118691\n(41% - 80% of allowed density)           4656\n(21% - 40% of allowed density)           3223\n(under 20% of allowed density)           1871\n(more than 100% of allowed density)       871\nName: properties.STATUS_TEXT_2, dtype: int64"
     },
     "execution_count": 25,
     "metadata": {},
     "output_type": "execute_result"
    }
   ],
   "source": [
    "# list all the count value of STATUS_TEXT_2 when LAND_USE_DESC is \"Single Family(Res Use/Zone)\n",
    "df[df[\"properties.LAND_USE_DESC\"] == \"Single Family(Res Use/Zone)\"][\"properties.STATUS_TEXT_2\"].value_counts()"
   ],
   "metadata": {
    "collapsed": false
   }
  },
  {
   "cell_type": "code",
   "execution_count": 20,
   "outputs": [
    {
     "data": {
      "text/plain": "array(['(81% - 100% of allowed density)',\n       '(41% - 80% of allowed density)', '(under 20% of allowed density)',\n       '(more than 100% of allowed density)',\n       '(21% - 40% of allowed density)'], dtype=object)"
     },
     "execution_count": 20,
     "metadata": {},
     "output_type": "execute_result"
    }
   ],
   "source": [
    "# list the unique values in the STATUS_TEXT_2 column\n",
    "df[\"properties.STATUS_TEXT_2\"].unique()"
   ],
   "metadata": {
    "collapsed": false
   }
  },
  {
   "cell_type": "code",
   "execution_count": 19,
   "outputs": [
    {
     "data": {
      "text/plain": "array(['Single Family(Res Use/Zone)', 'Duplex', 'Triplex',\n       'Townhouse Plat', 'Nursing Home', 'Apartment',\n       'Condominium(Residential)', 'Single Family(C/I Zone)',\n       'Vacant(Single-family)', '4-Plex', 'Unknown',\n       'Vacant(Multi-family)', 'Utility, Private(Radio/T.V.)',\n       'Retail Store', 'Parking(Assoc)', 'Apartment(Mixed Use)',\n       'Group Home', 'Apartment(Subsidized)', 'Parking(Commercial Lot)',\n       'Industrial(Gen Purpose)', 'Restaurant/Lounge', 'Daycare Center',\n       'Vacant(Commercial)', 'Easement', 'Industrial(Lignt)',\n       'Single Family(C/I Use)', 'School(Public)', 'Office Building',\n       'Retail(Line/Strip)', 'Grocery Store', 'Mobile Home',\n       'Retirement Facility', 'Service Building', 'Vacant(Industrial)',\n       'Warehouse', 'Conv Store with Gas', 'Club', 'Parking(Garage)',\n       'Health Club', 'Medical/Dental Office', 'School(Private)',\n       'Service Station', 'Apartment(Co-op)', 'Conv Store without Gas',\n       'Park, Private(Amuse Ctr)', 'Church/Welfare/Relig Srvc',\n       'Governmental Service', 'Historic Prop(Residence)', 'Hotel/Motel',\n       'Condominium(Office)', 'Mobile Home Park', 'Industrial(Heavy)',\n       'Tavern/Lounge', 'Bed & Breakfast', 'Condominium(Mixed Use)',\n       'Shell Structure', 'Sport Facility', 'Art Gallery/Museum/Soc Srvc',\n       'Auditorium//Assembly Bldg', 'Condominium(M Home Pk)',\n       'Greenhse/Nrsry/Hort Srvc', 'Transferable Dev Rights',\n       'Rehabilitation Center', 'Air Terminal and Hangers',\n       'Mini Warehouse', 'Rooming House'], dtype=object)"
     },
     "execution_count": 19,
     "metadata": {},
     "output_type": "execute_result"
    }
   ],
   "source": [
    "# list the unique values in the LAND_USE_DESC column in the residential file\n",
    "df[df[\"file\"] == \"residential.geojson\"][\"properties.LAND_USE_DESC\"].unique()"
   ],
   "metadata": {
    "collapsed": false
   }
  },
  {
   "cell_type": "code",
   "execution_count": 10,
   "outputs": [
    {
     "data": {
      "text/plain": "array(['Feature'], dtype=object)"
     },
     "metadata": {},
     "output_type": "display_data"
    },
    {
     "data": {
      "text/plain": "array([7550801125, 7519000845, 7519001690, ..., 5335200281, 8634400000,\n       9221400174], dtype=int64)"
     },
     "metadata": {},
     "output_type": "display_data"
    },
    {
     "data": {
      "text/plain": "array([nan, 'townhouse', 'Townhouse', ..., 'FLOWERLAND FLORIST',\n       'RETAIL, OFFICE & PARKING', 'THREE 19 CONDOMINIUM'], dtype=object)"
     },
     "metadata": {},
     "output_type": "display_data"
    },
    {
     "data": {
      "text/plain": "array(['Single Family(Res Use/Zone)', 'Duplex', 'Triplex',\n       'Townhouse Plat', 'Nursing Home', 'Apartment',\n       'Condominium(Residential)', 'Single Family(C/I Zone)',\n       'Vacant(Single-family)', '4-Plex', 'Unknown',\n       'Vacant(Multi-family)', 'Utility, Private(Radio/T.V.)',\n       'Retail Store', 'Parking(Assoc)', 'Apartment(Mixed Use)',\n       'Group Home', 'Apartment(Subsidized)', 'Parking(Commercial Lot)',\n       'Industrial(Gen Purpose)', 'Restaurant/Lounge', 'Daycare Center',\n       'Vacant(Commercial)', 'Easement', 'Industrial(Lignt)',\n       'Single Family(C/I Use)', 'School(Public)', 'Office Building',\n       'Retail(Line/Strip)', 'Grocery Store', 'Mobile Home',\n       'Retirement Facility', 'Service Building', 'Vacant(Industrial)',\n       'Warehouse', 'Conv Store with Gas', 'Club', 'Parking(Garage)',\n       'Health Club', 'Medical/Dental Office', 'School(Private)',\n       'Service Station', 'Apartment(Co-op)', 'Conv Store without Gas',\n       'Park, Private(Amuse Ctr)', 'Church/Welfare/Relig Srvc',\n       'Governmental Service', 'Historic Prop(Residence)', 'Hotel/Motel',\n       'Condominium(Office)', 'Mobile Home Park', 'Industrial(Heavy)',\n       'Tavern/Lounge', 'Bed & Breakfast', 'Condominium(Mixed Use)',\n       'Shell Structure', 'Sport Facility', 'Art Gallery/Museum/Soc Srvc',\n       'Auditorium//Assembly Bldg', 'Condominium(M Home Pk)',\n       'Greenhse/Nrsry/Hort Srvc', 'Transferable Dev Rights',\n       'Rehabilitation Center', 'Air Terminal and Hangers',\n       'Mini Warehouse', 'Rooming House', 'Industrial Park',\n       'Restaurant(Fast Food)', 'Terminal(Auto/Bus/Other)',\n       'Auto Showroom and Lot', 'Vet/Animal Control Srvc', 'Car Wash',\n       'Bank', 'Shopping Ctr(Nghbrhood)', 'Shopping Ctr(Community)',\n       'Mini Lube', 'Terminal(Marine)', 'Movie Theater',\n       'Retail(Discount)', 'Shopping Ctr(Maj Retail)', 'Retail(Big Box)',\n       'Terminal(Marine/Comm Fish)', 'Historic Prop(Office)',\n       'High Tech/High Flex', 'Gas Station', 'Right of Way/Utility, Road',\n       'Bowling Alley', 'Office Park', 'Marina', 'Shopping Ctr(Regional)',\n       'Historic Prop(Retail)', 'Resort/Lodge/Retreat'], dtype=object)"
     },
     "metadata": {},
     "output_type": "display_data"
    },
    {
     "data": {
      "text/plain": "array(['Single Family', 'Multi-Family', 'Vacant', 'Unknown',\n       'Major Institution And Public Facilities/Utilities',\n       'Commercial/Mixed-Use', 'Industrial', 'Easement'], dtype=object)"
     },
     "metadata": {},
     "output_type": "display_data"
    },
    {
     "data": {
      "text/plain": "array(['(81% - 100% of allowed density)',\n       '(41% - 80% of allowed density)', '(under 20% of allowed density)',\n       '(more than 100% of allowed density)',\n       '(21% - 40% of allowed density)'], dtype=object)"
     },
     "metadata": {},
     "output_type": "display_data"
    },
    {
     "data": {
      "text/plain": "array(['Polygon', 'MultiPolygon'], dtype=object)"
     },
     "metadata": {},
     "output_type": "display_data"
    },
    {
     "data": {
      "text/plain": "array(['[[[-122.397418404879, 47.6733343670998], [-122.397415942299, 47.6730603137582], [-122.397617726015, 47.6730599178618], [-122.397620306932, 47.6733339558785], [-122.397418404879, 47.6733343670998]]]',\n       '[[[-122.362899025059, 47.6861179900469], [-122.362899557561, 47.6858326094546], [-122.363000820414, 47.6858324731156], [-122.363102083428, 47.6858323421686], [-122.363203346281, 47.6858322056497], [-122.363202782466, 47.6861177073354], [-122.363101530024, 47.6861178025762], [-122.363000277502, 47.686117894986], [-122.362899025059, 47.6861179900469]]]',\n       '[[[-122.36345096431, 47.684962316128], [-122.36345083551, 47.6848170179582], [-122.363552277669, 47.6848168320806], [-122.363653695553, 47.6848166491807], [-122.363755117415, 47.684816463395], [-122.363759173951, 47.6848164610116], [-122.363759258882, 47.6849617570397], [-122.363755198437, 47.6849617649596], [-122.363653800565, 47.6849619476773], [-122.363653349847, 47.6849619482462], [-122.363552402774, 47.6849621330457], [-122.363551972351, 47.6849621333417], [-122.36345096431, 47.684962316128]]]',\n       ...,\n       '[[[-122.317557667576, 47.6619960455193], [-122.317801154747, 47.6619976654244], [-122.317801098801, 47.6620028128792], [-122.317800334088, 47.6620718306487], [-122.317799785081, 47.6621215392157], [-122.317921703505, 47.6621223494415], [-122.317962275385, 47.6621226212829], [-122.317962060208, 47.6621419469312], [-122.317961299842, 47.6622109673894], [-122.317960539318, 47.6622799823655], [-122.317959779026, 47.6623490055644], [-122.317959014441, 47.662418020593], [-122.317958254067, 47.6624870410505], [-122.317917641094, 47.6624867615136], [-122.317916872393, 47.6625557765945], [-122.317916486092, 47.6625902869023], [-122.318281910268, 47.6625928034331], [-122.318281524208, 47.6626273137421], [-122.318280752166, 47.6626963371008], [-122.318279980121, 47.6627653604594], [-122.318279208075, 47.6628343838178], [-122.318278435948, 47.6629034044351], [-122.318277663897, 47.6629724277932], [-122.318276887787, 47.6630414512039], [-122.31791148792, 47.6630389013951], [-122.317546092146, 47.6630363503615], [-122.317546861425, 47.6629673380253], [-122.317547634837, 47.6628983283771], [-122.317548400054, 47.6628293160934], [-122.317549169326, 47.6627603037568], [-122.317549938597, 47.6626912914199], [-122.317550703808, 47.6626222791357], [-122.317551473074, 47.6625532667984], [-122.317552242338, 47.662484254461], [-122.317553007543, 47.6624152421763], [-122.317553776804, 47.6623462298384], [-122.317554546062, 47.6622772175005], [-122.317555311182, 47.6622082024742], [-122.317556076457, 47.6621391929297], [-122.317556849845, 47.6620701832793], [-122.31755761098, 47.6620011710463], [-122.317557667576, 47.6619960455193]]]',\n       '[[[-122.32542549673, 47.6215741642946], [-122.325424643811, 47.6214095263436], [-122.325910210419, 47.6214082705423], [-122.325911092625, 47.6215728861898], [-122.32542549673, 47.6215741642946]]]',\n       '[[[-122.318836430162, 47.6752990737829], [-122.318836518791, 47.675260701151], [-122.318836549195, 47.6752469935222], [-122.319110628835, 47.6752483304518], [-122.319110598581, 47.6752620408217], [-122.319110567779, 47.6752757320047], [-122.319110511331, 47.6753031526915], [-122.31905574008, 47.6753028880653], [-122.318917831116, 47.6753022131252], [-122.318917817696, 47.6752994713052], [-122.318836430162, 47.6752990737829]]]'],\n      dtype=object)"
     },
     "metadata": {},
     "output_type": "display_data"
    },
    {
     "data": {
      "text/plain": "array(['residential.geojson', 'commercial.geojson'], dtype=object)"
     },
     "metadata": {},
     "output_type": "display_data"
    }
   ],
   "source": [
    "from random import randint\n",
    "\n",
    "# add a new column occupancy\n",
    "df[\"occupancy\"] = 0\n",
    "OCCU_R_FAM = (1, 6) # occupancy range for single family residential\n",
    "\n",
    "# create a new LAND_USE_DESC column\n",
    "# for each row\n",
    "for index, row in df.iterrows():\n",
    "    temp = df.loc[index, \"properties.LAND_USE_DESC\"]\n",
    "    # if its a residential property\n",
    "    if temp[\"file\"] == \"residential.geojson\":\n",
    "        if temp[\"properties.LAND_USE_DESC\"] == \"Single Family(Res Use/Zone)\" or temp[\"properties.LAND_USE_DESC\"] == \"Single Family(C/I Zone)\":\n",
    "            # set occupancy to random number between 1 and 6\n",
    "            df.loc[index, \"occupancy\"] = randint(OCCU_R_FAM[0], OCCU_R_FAM[1])\n",
    "            df.loc[index, \"LAND_USE_DESC\"] = \"Single Family Residential\"\n",
    "\n",
    "        elif temp[\"properties.LAND_USE_DESC\"] == \"Duplex\":\n",
    "\n",
    "            df.loc[index, \"LAND_USE_DESC\"] = \"Multi-Family Residential\"\n",
    "        elif temp[\"properties.LAND_USE_DESC\"] == \"Mobile Home Park\":\n",
    "            df.loc[index, \"LAND_USE_DESC\"] = \"Mobile Home Park\"\n",
    "        elif temp[\"properties.LAND_USE_DESC\"] == \"Mobile Home Park (Rental)\":\n",
    "            df.loc[index, \"LAND_USE_DESC\"] = \"Mobile Home Park (Rental)\"\n",
    "        elif temp[\"properties.LAND_USE_DESC\"] == \"Mobile Home Park (Owner Occupied)\":\n",
    "            df.loc[index, \"LAND_USE_DESC\"] = \"Mobile Home Park (Owner Occupied)\"\n",
    "        elif temp[\"properties.LAND_USE_DESC\"] == \"Mobile Home Park (Rental)\":\n",
    "            df.loc[index, \"LAND_USE_DESC\"] = \"Mobile Home Park (Rental)\"\n",
    "        elif temp[\"properties.LAND_USE_DESC\"] == \"Mobile Home Park (Owner Occupied)\":\n",
    "            df.loc[index, \"LAND_USE_DESC\"] = \"Mobile Home Park (Owner Occupied)\"\n",
    "        elif temp[\"properties.LAND_USE_DESC\"] == \"Mobile Home Park (Rental)\":\n",
    "            df.loc[index, \"LAND_USE_DESC\"] = \"Mobile Home Park (Rental)\"\n",
    "        elif temp[\"properties.LAND_USE_DESC\"] == \"Mobile Home Park (Owner Occupied)\":\n",
    "            df.loc[index, \"LAND_USE_DESC\"] = \"Mobile Home Park (Owner Occupied)\"\n",
    "        elif temp[\"properties.LAND_USE_DESC\"] == \"Mobile Home Park (Rental)\":\n",
    "            df.loc[index, \"LAND_USE_DESC\"] = \"Mobile Home Park (Rental)\"\n",
    "        elif temp[\"properties.LAND_USE_DESC\"] == \"Mobile Home Park (Owner Occupied)\":\n",
    "            df.loc[index, \"LAND_USE_DESC\"] = \"Mobile Home Park (Owner Occupied)\"\n",
    "        elif temp[\"properties.LAND_USE_DESC\"] == \"Mobile Home Park (Rental)\":\n",
    "            df.loc[index, \"LAND_USE_DESC\"] = \"Mobile Home Park (Rental)\"\n",
    "        elif temp[\"properties.LAND_USE_DESC\"] == \"Mobile Home Park (Owner Occupied)\":\n",
    "            df.loc[index, \"LAND_USE_DESC\"] = \"Mobile Home Park (Owner Occupied)\""
   ],
   "metadata": {
    "collapsed": false
   }
  },
  {
   "cell_type": "code",
   "execution_count": null,
   "outputs": [],
   "source": [],
   "metadata": {
    "collapsed": false
   }
  }
 ],
 "metadata": {
  "kernelspec": {
   "display_name": "Python 3",
   "language": "python",
   "name": "python3"
  },
  "language_info": {
   "codemirror_mode": {
    "name": "ipython",
    "version": 2
   },
   "file_extension": ".py",
   "mimetype": "text/x-python",
   "name": "python",
   "nbconvert_exporter": "python",
   "pygments_lexer": "ipython2",
   "version": "2.7.6"
  }
 },
 "nbformat": 4,
 "nbformat_minor": 0
}
